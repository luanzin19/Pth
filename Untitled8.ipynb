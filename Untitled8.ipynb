{
  "nbformat": 4,
  "nbformat_minor": 0,
  "metadata": {
    "colab": {
      "provenance": [],
      "authorship_tag": "ABX9TyP8lNsZEmx07bjCLJ+2Qdye",
      "include_colab_link": true
    },
    "kernelspec": {
      "name": "python3",
      "display_name": "Python 3"
    },
    "language_info": {
      "name": "python"
    }
  },
  "cells": [
    {
      "cell_type": "markdown",
      "metadata": {
        "id": "view-in-github",
        "colab_type": "text"
      },
      "source": [
        "<a href=\"https://colab.research.google.com/github/luanzin19/Pth/blob/main/Untitled8.ipynb\" target=\"_parent\"><img src=\"https://colab.research.google.com/assets/colab-badge.svg\" alt=\"Open In Colab\"/></a>"
      ]
    },
    {
      "cell_type": "code",
      "execution_count": 10,
      "metadata": {
        "id": "JEJJ-3r8EJo3"
      },
      "outputs": [],
      "source": [
        "#lutadores\n",
        "lutadores = [ \n",
        "    \n",
        "\n",
        "{\n",
        "    \n",
        "\"nome\" : \"Carlos  blfo\",\n",
        "\"categoria\" : \"Meio Médio\",\n",
        "\"envergadura\": 2\n",
        "\n",
        "},\n",
        "\n",
        "\n",
        "{\n",
        "\"nome\" : \"daniel grand\",\n",
        "\"categoria\" : \"peso pesado\",\n",
        "\"envegadura\" : 1.6\n",
        " },\n",
        " {\n",
        "    \n",
        "\"nome\" : \"elaine\",\n",
        "\"categoria\" : \"Peso pena\",\n",
        "\"envergadura\" : 1.2\n",
        "\n",
        " }\n",
        "]   \n"
      ]
    },
    {
      "cell_type": "code",
      "source": [
        "lutadores"
      ],
      "metadata": {
        "colab": {
          "base_uri": "https://localhost:8080/"
        },
        "id": "5yd9974WIvFl",
        "outputId": "b74a4e74-8ca4-42b4-b0c7-2b9248702013"
      },
      "execution_count": 11,
      "outputs": [
        {
          "output_type": "execute_result",
          "data": {
            "text/plain": [
              "[{'nome': 'Carlos  blfo', 'categoria': 'Meio Médio', 'envergadura': 2},\n",
              " {'nome': 'daniel grand', 'categoria': 'peso pesado', 'envegadura': 1.6},\n",
              " {'nome': 'elaine', 'categoria': 'Peso pena', 'envergadura': 1.2}]"
            ]
          },
          "metadata": {},
          "execution_count": 11
        }
      ]
    },
    {
      "cell_type": "code",
      "source": [
        "#Adição\n",
        "contatos = {\n",
        "'Ze': 'ze@gmail.com',\n",
        "'daniel' : 'danielzinho@gmail.com',\n",
        "'carlos albeto' : 'calotsaa@gmail.com',\n",
        "}       \n",
        "contatos.update          "
      ],
      "metadata": {
        "colab": {
          "base_uri": "https://localhost:8080/"
        },
        "id": "DSTMjXR2JAZj",
        "outputId": "5f22b6f2-a391-41a2-b8ed-4b23b1905946"
      },
      "execution_count": 8,
      "outputs": [
        {
          "output_type": "execute_result",
          "data": {
            "text/plain": [
              "<function dict.update>"
            ]
          },
          "metadata": {},
          "execution_count": 8
        }
      ]
    },
    {
      "cell_type": "code",
      "source": [
        "contatos"
      ],
      "metadata": {
        "colab": {
          "base_uri": "https://localhost:8080/"
        },
        "id": "1h27ueI9JqUF",
        "outputId": "16dc8e2b-24d9-4fe8-9681-89fbd701a9ff"
      },
      "execution_count": 9,
      "outputs": [
        {
          "output_type": "execute_result",
          "data": {
            "text/plain": [
              "{'Ze': 'ze@gmail.com',\n",
              " 'daniel': 'danielzinho@gmail.com',\n",
              " 'carlos albeto': 'calotsaa@gmail.com'}"
            ]
          },
          "metadata": {},
          "execution_count": 9
        }
      ]
    },
    {
      "cell_type": "code",
      "source": [
        "contatos1 = {\n",
        "'Ze': 'ze@gmail.com',\n",
        "'daniel' : 'danielzinho@gmail.com',\n",
        "'carlos albeto' : 'calotsaa@gmail.com',\n",
        "}       \n",
        "contatos1.items()"
      ],
      "metadata": {
        "colab": {
          "base_uri": "https://localhost:8080/"
        },
        "id": "VSh887DsOnT6",
        "outputId": "cf85c85c-a355-4275-dfb7-b3d78969611e"
      },
      "execution_count": 21,
      "outputs": [
        {
          "output_type": "execute_result",
          "data": {
            "text/plain": [
              "dict_items([('Ze', 'ze@gmail.com'), ('daniel', 'danielzinho@gmail.com'), ('carlos albeto', 'calotsaa@gmail.com')])"
            ]
          },
          "metadata": {},
          "execution_count": 21
        }
      ]
    },
    {
      "cell_type": "code",
      "source": [
        "contatos1"
      ],
      "metadata": {
        "colab": {
          "base_uri": "https://localhost:8080/"
        },
        "id": "xv0JAHjZOptq",
        "outputId": "4f4607fe-4190-45ff-b161-2abf90f4bcda"
      },
      "execution_count": 22,
      "outputs": [
        {
          "output_type": "execute_result",
          "data": {
            "text/plain": [
              "{'Ze': 'ze@gmail.com',\n",
              " 'daniel': 'danielzinho@gmail.com',\n",
              " 'carlos albeto': 'calotsaa@gmail.com'}"
            ]
          },
          "metadata": {},
          "execution_count": 22
        }
      ]
    },
    {
      "cell_type": "code",
      "source": [
        "#menornota\n",
        "curso = {\"alice\" : 5.7, 'thiago' : 3.7, 'danilo' : 9.0 } "
      ],
      "metadata": {
        "id": "jfkyj_CGRTHy"
      },
      "execution_count": 28,
      "outputs": []
    },
    {
      "cell_type": "code",
      "source": [
        "max(curso)"
      ],
      "metadata": {
        "colab": {
          "base_uri": "https://localhost:8080/",
          "height": 35
        },
        "id": "u9pFvRO1RgBo",
        "outputId": "cd100f0b-0484-4809-de92-85b899bf7f2e"
      },
      "execution_count": 29,
      "outputs": [
        {
          "output_type": "execute_result",
          "data": {
            "text/plain": [
              "'thiago'"
            ],
            "application/vnd.google.colaboratory.intrinsic+json": {
              "type": "string"
            }
          },
          "metadata": {},
          "execution_count": 29
        }
      ]
    },
    {
      "cell_type": "code",
      "source": [
        "min(curso)"
      ],
      "metadata": {
        "colab": {
          "base_uri": "https://localhost:8080/",
          "height": 35
        },
        "id": "_mUlxSIRRn4I",
        "outputId": "e458f726-827f-4e5d-fe3d-acdc012373c1"
      },
      "execution_count": 25,
      "outputs": [
        {
          "output_type": "execute_result",
          "data": {
            "text/plain": [
              "'alice'"
            ],
            "application/vnd.google.colaboratory.intrinsic+json": {
              "type": "string"
            }
          },
          "metadata": {},
          "execution_count": 25
        }
      ]
    }
  ]
}